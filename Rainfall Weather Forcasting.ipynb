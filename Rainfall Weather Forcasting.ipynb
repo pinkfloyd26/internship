{
 "cells": [
  {
   "cell_type": "markdown",
   "id": "9386cba8",
   "metadata": {},
   "source": [
    "# Rainfall Weather Forcasting"
   ]
  },
  {
   "cell_type": "code",
   "execution_count": 1,
   "id": "ca476f5e",
   "metadata": {},
   "outputs": [],
   "source": [
    "import numpy as np\n",
    "import pandas as pd\n"
   ]
  },
  {
   "cell_type": "code",
   "execution_count": 6,
   "id": "df62f295",
   "metadata": {},
   "outputs": [],
   "source": [
    "dataset=pd.read_csv(r'C:\\Users\\Chinmay\\Downloads\\weatherAUS.csv')\n",
    "X=dataset.iloc[:,[1,2,3,4,7,8,9,10,11,12,13,14,15,16,17,18,19,20,21]].values\n",
    "Y=dataset.iloc[:,-1].values"
   ]
  },
  {
   "cell_type": "code",
   "execution_count": 7,
   "id": "d4d2e87f",
   "metadata": {},
   "outputs": [
    {
     "name": "stdout",
     "output_type": "stream",
     "text": [
      "[['Albury' 13.4 22.9 ... 16.9 21.8 'No']\n",
      " ['Albury' 7.4 25.1 ... 17.2 24.3 'No']\n",
      " ['Albury' 12.9 25.7 ... 21.0 23.2 'No']\n",
      " ...\n",
      " ['Uluru' 5.4 26.9 ... 12.5 26.1 'No']\n",
      " ['Uluru' 7.8 27.0 ... 15.1 26.0 'No']\n",
      " ['Uluru' 14.9 nan ... 15.0 20.9 'No']]\n"
     ]
    }
   ],
   "source": [
    "print(X)"
   ]
  },
  {
   "cell_type": "code",
   "execution_count": 8,
   "id": "9c3f4c3f",
   "metadata": {},
   "outputs": [
    {
     "name": "stdout",
     "output_type": "stream",
     "text": [
      "['No' 'No' 'No' ... 'No' 'No' nan]\n"
     ]
    }
   ],
   "source": [
    "print(Y)"
   ]
  },
  {
   "cell_type": "code",
   "execution_count": 9,
   "id": "df7faf98",
   "metadata": {},
   "outputs": [],
   "source": [
    "Y=Y.reshape(-1,1)"
   ]
  },
  {
   "cell_type": "code",
   "execution_count": 10,
   "id": "239a7fae",
   "metadata": {},
   "outputs": [
    {
     "name": "stdout",
     "output_type": "stream",
     "text": [
      "[['No']\n",
      " ['No']\n",
      " ['No']\n",
      " ...\n",
      " ['No']\n",
      " ['No']\n",
      " [nan]]\n"
     ]
    }
   ],
   "source": [
    "print(Y)"
   ]
  },
  {
   "cell_type": "code",
   "execution_count": 11,
   "id": "8f2a8b80",
   "metadata": {},
   "outputs": [],
   "source": [
    "from sklearn.impute import SimpleImputer\n",
    "imputer=SimpleImputer(missing_values=np.nan,strategy='most_frequent')\n",
    "X=imputer.fit_transform(X)\n",
    "Y=imputer.fit_transform(Y)"
   ]
  },
  {
   "cell_type": "code",
   "execution_count": 12,
   "id": "ac02344e",
   "metadata": {},
   "outputs": [
    {
     "name": "stderr",
     "output_type": "stream",
     "text": [
      "C:\\Users\\Chinmay\\anaconda3\\lib\\site-packages\\sklearn\\preprocessing\\_label.py:115: DataConversionWarning: A column-vector y was passed when a 1d array was expected. Please change the shape of y to (n_samples, ), for example using ravel().\n",
      "  y = column_or_1d(y, warn=True)\n"
     ]
    }
   ],
   "source": [
    "from sklearn.preprocessing import LabelEncoder\n",
    "le1=LabelEncoder()\n",
    "X[:,0]=le1.fit_transform(X[:,0])\n",
    "le2=LabelEncoder()\n",
    "X[:,4]=le2.fit_transform(X[:,4])\n",
    "le3=LabelEncoder()\n",
    "X[:,6]=le3.fit_transform(X[:,6])\n",
    "le4=LabelEncoder()\n",
    "X[:,7]=le4.fit_transform(X[:,7])\n",
    "le5=LabelEncoder()\n",
    "X[:,-1]=le5.fit_transform(X[:,-1])\n",
    "le6=LabelEncoder()\n",
    "Y=le6.fit_transform(Y)"
   ]
  },
  {
   "cell_type": "code",
   "execution_count": 13,
   "id": "055e09b5",
   "metadata": {},
   "outputs": [
    {
     "name": "stdout",
     "output_type": "stream",
     "text": [
      "[[1 13.4 22.9 ... 16.9 21.8 0]\n",
      " [1 7.4 25.1 ... 17.2 24.3 0]\n",
      " [1 12.9 25.7 ... 21.0 23.2 0]\n",
      " ...\n",
      " [9 5.4 26.9 ... 12.5 26.1 0]\n",
      " [9 7.8 27.0 ... 15.1 26.0 0]\n",
      " [9 14.9 19.0 ... 15.0 20.9 0]]\n"
     ]
    }
   ],
   "source": [
    "print(X)"
   ]
  },
  {
   "cell_type": "code",
   "execution_count": 14,
   "id": "761d1bf9",
   "metadata": {},
   "outputs": [
    {
     "name": "stdout",
     "output_type": "stream",
     "text": [
      "[0 0 0 ... 0 0 0]\n"
     ]
    }
   ],
   "source": [
    "print(Y)"
   ]
  },
  {
   "cell_type": "code",
   "execution_count": 15,
   "id": "4eb58fdb",
   "metadata": {},
   "outputs": [],
   "source": [
    "from sklearn.preprocessing import StandardScaler\n",
    "sc=StandardScaler()\n",
    "X=sc.fit_transform(X)"
   ]
  },
  {
   "cell_type": "code",
   "execution_count": 16,
   "id": "8c44249b",
   "metadata": {},
   "outputs": [
    {
     "name": "stdout",
     "output_type": "stream",
     "text": [
      "[[-1.51577598  0.04039106 -0.15101108 ... -0.15006358 -0.10175254\n",
      "  -0.55609919]\n",
      " [-1.51577598 -1.07478085  0.20800875 ... -0.09661746  0.318031\n",
      "  -0.55609919]\n",
      " [-1.51577598 -0.05253993  0.30592325 ...  0.58036664  0.13332624\n",
      "  -0.55609919]\n",
      " ...\n",
      " [ 1.01389522 -1.44650482  0.50175225 ... -0.93393991  0.62027515\n",
      "  -0.55609919]\n",
      " [ 1.01389522 -1.00043606  0.51807133 ... -0.47074026  0.60348381\n",
      "  -0.55609919]\n",
      " [ 1.01389522  0.31918404 -0.78745533 ... -0.48855563 -0.25287462\n",
      "  -0.55609919]]\n"
     ]
    }
   ],
   "source": [
    "print(X)"
   ]
  },
  {
   "cell_type": "code",
   "execution_count": 17,
   "id": "4738d62f",
   "metadata": {},
   "outputs": [],
   "source": [
    "from sklearn.model_selection import train_test_split\n",
    "X_train,X_test,Y_train,Y_test=train_test_split(X,Y,test_size=0.2, random_state=0)"
   ]
  },
  {
   "cell_type": "code",
   "execution_count": 18,
   "id": "6f6e080e",
   "metadata": {},
   "outputs": [
    {
     "name": "stdout",
     "output_type": "stream",
     "text": [
      "[[ 0.06526852  0.8024252  -0.18364925 ...  0.40221293 -0.15212657\n",
      "  -0.55609919]\n",
      " [ 1.64631302  0.46787363 -0.37947825 ...  0.06372088 -0.4879534\n",
      "  -0.55609919]\n",
      " [-1.51577598 -1.33498763 -0.15101108 ... -0.86267843  0.03257819\n",
      "  -0.55609919]\n",
      " ...\n",
      " [-0.25094038 -0.75881547 -0.90168891 ... -0.70234009 -0.87415426\n",
      "  -0.55609919]\n",
      " [ 1.33010412  1.08121818  0.28960417 ...  0.93667407  0.28444832\n",
      "   1.79824035]\n",
      " [ 0.38147742 -0.4800225  -1.50549499 ... -0.7557862  -1.34431183\n",
      "   1.79824035]]\n"
     ]
    }
   ],
   "source": [
    "print(X_train)"
   ]
  },
  {
   "cell_type": "code",
   "execution_count": 19,
   "id": "c12a1b8f",
   "metadata": {},
   "outputs": [
    {
     "name": "stdout",
     "output_type": "stream",
     "text": [
      "[0 0 0 ... 1 0 1]\n"
     ]
    }
   ],
   "source": [
    "print(Y_train)"
   ]
  },
  {
   "cell_type": "code",
   "execution_count": 20,
   "id": "19d1f632",
   "metadata": {},
   "outputs": [
    {
     "data": {
      "text/plain": [
       "RandomForestClassifier(random_state=0)"
      ]
     },
     "execution_count": 20,
     "metadata": {},
     "output_type": "execute_result"
    }
   ],
   "source": [
    "from sklearn.ensemble import RandomForestClassifier\n",
    "classifier=RandomForestClassifier(n_estimators=100, random_state=0)\n",
    "classifier.fit(X_train,Y_train)"
   ]
  },
  {
   "cell_type": "code",
   "execution_count": 21,
   "id": "4bdae0a2",
   "metadata": {},
   "outputs": [
    {
     "data": {
      "text/plain": [
       "0.9998516320474777"
      ]
     },
     "execution_count": 21,
     "metadata": {},
     "output_type": "execute_result"
    }
   ],
   "source": [
    "classifier.score(X_train,Y_train)"
   ]
  },
  {
   "cell_type": "code",
   "execution_count": 24,
   "id": "58038995",
   "metadata": {},
   "outputs": [],
   "source": [
    "Y_pred=classifier.predict(X_test)"
   ]
  },
  {
   "cell_type": "code",
   "execution_count": 25,
   "id": "c3cd88c6",
   "metadata": {},
   "outputs": [
    {
     "name": "stdout",
     "output_type": "stream",
     "text": [
      "[0 0 0 ... 1 0 0]\n"
     ]
    }
   ],
   "source": [
    "print(Y_pred)"
   ]
  },
  {
   "cell_type": "code",
   "execution_count": 26,
   "id": "9aa58932",
   "metadata": {},
   "outputs": [],
   "source": [
    "Y_pred=le6.inverse_transform(Y_pred)"
   ]
  },
  {
   "cell_type": "code",
   "execution_count": 27,
   "id": "d1e16f00",
   "metadata": {},
   "outputs": [
    {
     "name": "stdout",
     "output_type": "stream",
     "text": [
      "['No' 'No' 'No' ... 'Yes' 'No' 'No']\n"
     ]
    }
   ],
   "source": [
    "print(Y_pred)"
   ]
  },
  {
   "cell_type": "code",
   "execution_count": 28,
   "id": "ad417542",
   "metadata": {},
   "outputs": [
    {
     "name": "stdout",
     "output_type": "stream",
     "text": [
      "[1 0 0 ... 1 0 0]\n"
     ]
    }
   ],
   "source": [
    "print(Y_test)"
   ]
  },
  {
   "cell_type": "code",
   "execution_count": 29,
   "id": "d707b6ff",
   "metadata": {},
   "outputs": [],
   "source": [
    "Y_test=Y_test.reshape(-1,1)\n",
    "Y_pred=Y_pred.reshape(-1,1)"
   ]
  },
  {
   "cell_type": "code",
   "execution_count": 32,
   "id": "853d7208",
   "metadata": {},
   "outputs": [],
   "source": [
    "df=np.concatenate((Y_test,Y_pred), axis=1)\n",
    "dataframe=pd.DataFrame(df,columns=['Rain on Tomorrow','Prediction of Rain'])"
   ]
  },
  {
   "cell_type": "code",
   "execution_count": 33,
   "id": "d2dc65d6",
   "metadata": {},
   "outputs": [
    {
     "name": "stdout",
     "output_type": "stream",
     "text": [
      "     Rain on Tomorrow Prediction of Rain\n",
      "0                   1                 No\n",
      "1                   0                 No\n",
      "2                   0                 No\n",
      "3                   0                 No\n",
      "4                   1                Yes\n",
      "...               ...                ...\n",
      "1680                1                 No\n",
      "1681                0                 No\n",
      "1682                1                Yes\n",
      "1683                0                 No\n",
      "1684                0                 No\n",
      "\n",
      "[1685 rows x 2 columns]\n"
     ]
    }
   ],
   "source": [
    "print(dataframe)"
   ]
  },
  {
   "cell_type": "code",
   "execution_count": null,
   "id": "3de2d14e",
   "metadata": {},
   "outputs": [],
   "source": []
  }
 ],
 "metadata": {
  "kernelspec": {
   "display_name": "Python 3 (ipykernel)",
   "language": "python",
   "name": "python3"
  },
  "language_info": {
   "codemirror_mode": {
    "name": "ipython",
    "version": 3
   },
   "file_extension": ".py",
   "mimetype": "text/x-python",
   "name": "python",
   "nbconvert_exporter": "python",
   "pygments_lexer": "ipython3",
   "version": "3.9.13"
  }
 },
 "nbformat": 4,
 "nbformat_minor": 5
}
